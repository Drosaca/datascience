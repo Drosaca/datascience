{
 "cells": [
  {
   "cell_type": "code",
   "execution_count": null,
   "outputs": [],
   "source": [
    "import matplotlib.pyplot as plt\n",
    "plt.style.use('default')\n",
    "plt.style.use({'figure.facecolor':'white'})"
   ],
   "metadata": {
    "collapsed": false,
    "pycharm": {
     "name": "#%%\n"
    }
   }
  },
  {
   "cell_type": "markdown",
   "source": [
    "1. Import dataset"
   ],
   "metadata": {
    "collapsed": false,
    "pycharm": {
     "name": "#%% md\n"
    }
   }
  },
  {
   "cell_type": "code",
   "execution_count": null,
   "metadata": {
    "collapsed": true
   },
   "outputs": [],
   "source": [
    "import pandas as pd\n",
    "\n",
    "data = pd.read_csv('./datasets/training.1600000.processed.noemoticon.csv', encoding = \"ISO-8859-1\", header=None, names=['target', 'id', 'date', 'flag', 'user', 'text'])\n",
    "\n",
    "# Transform target from integer (1 or 4) to boolean\n",
    "data['target'] = data['target'].transform(lambda target: 1 if target == 4 else 0)\n",
    "\n",
    "data.hist(column='target')\n",
    "plt.title('Distribution')\n",
    "plt.xticks([0,1])\n",
    "\n",
    "outputs = data['target']\n",
    "data = data.drop(columns=['target'])\n",
    "print(outputs.shape, data.shape)\n"
   ]
  },
  {
   "cell_type": "markdown",
   "source": [
    "2. Remove mentions from text"
   ],
   "metadata": {
    "collapsed": false
   }
  },
  {
   "cell_type": "code",
   "execution_count": null,
   "outputs": [],
   "source": [
    "import re\n",
    "\n",
    "mentions = filter(lambda x: bool(re.search(r\"@\\w+\",x)), data['text'])\n",
    "print('mentions',len(list(mentions)))\n",
    "data['text'] = data['text'].transform( lambda x: re.sub(r\"@\\w+\", '' ,x))\n"
   ],
   "metadata": {
    "collapsed": false,
    "pycharm": {
     "name": "#%%\n"
    }
   }
  },
  {
   "cell_type": "markdown",
   "source": [
    "3. Split train and test set"
   ],
   "metadata": {
    "collapsed": false
   }
  },
  {
   "cell_type": "code",
   "execution_count": null,
   "outputs": [],
   "source": [
    "from sklearn.model_selection import train_test_split\n",
    "x_train,y_test, x_label, y_label = train_test_split(data['text'],outputs, test_size=0.20, random_state=42)\n",
    "print(x_train.shape, y_test.shape, x_label.shape, y_label.shape)\n",
    "x_label.hist()\n",
    "y_label.hist()\n",
    "plt.xticks([0,1])\n",
    "plt.title('Distribution')"
   ],
   "metadata": {
    "collapsed": false,
    "pycharm": {
     "name": "#%%\n"
    }
   }
  },
  {
   "cell_type": "markdown",
   "source": [
    "4. Process text: tokenize and compute tfidf"
   ],
   "metadata": {
    "collapsed": false,
    "pycharm": {
     "name": "#%% md\n"
    }
   }
  },
  {
   "cell_type": "code",
   "execution_count": null,
   "outputs": [],
   "source": [
    "import nltk\n",
    "nltk.download('stopwords')\n",
    "\n",
    "from sklearn.feature_extraction.text import CountVectorizer\n",
    "from sklearn.feature_extraction.text import TfidfTransformer\n",
    "from sklearn.pipeline import Pipeline\n",
    "\n",
    "pipeline = Pipeline([\n",
    "    ('vect', CountVectorizer(strip_accents='ascii')),\n",
    "    ('tfidf', TfidfTransformer()),\n",
    "])"
   ],
   "metadata": {
    "collapsed": false,
    "pycharm": {
     "name": "#%%\n"
    }
   }
  },
  {
   "cell_type": "markdown",
   "source": [
    "5. Declare all classifiers to test\n",
    "\n",
    "Notes:\n",
    "- svm.SVC: too long\n",
    "- GaussianNB: not working"
   ],
   "metadata": {
    "collapsed": false,
    "pycharm": {
     "name": "#%% md\n"
    }
   }
  },
  {
   "cell_type": "code",
   "execution_count": null,
   "outputs": [],
   "source": [
    "from sklearn import naive_bayes\n",
    "from sklearn.pipeline import Pipeline\n",
    "from sklearn.svm import LinearSVC\n",
    "from sklearn.feature_extraction.text import CountVectorizer\n",
    "from sklearn.feature_extraction.text import TfidfTransformer\n",
    "from sklearn.neighbors import NearestCentroid\n",
    "from sklearn.naive_bayes import BernoulliNB\n",
    "from sklearn.linear_model import PassiveAggressiveClassifier\n",
    "\n",
    "classifiers = {\"naive_bayes\":\n",
    " Pipeline([ ('vect', CountVectorizer(strip_accents='ascii')),\n",
    "    ('tfidf', TfidfTransformer()), ('clf', naive_bayes.MultinomialNB())]),\n",
    "    \"linear_model\":\n",
    " Pipeline([ ('vect', CountVectorizer(strip_accents='ascii')),\n",
    "    ('tfidf', TfidfTransformer()), ('clf', LinearSVC())]),\n",
    "    \"nearest_centroid\":\n",
    " Pipeline([ ('vect', CountVectorizer(strip_accents='ascii')),\n",
    "    ('tfidf', TfidfTransformer()), ('clf', NearestCentroid())]),\n",
    "    \"bernoulli\":\n",
    " Pipeline([ ('vect', CountVectorizer(strip_accents='ascii')),\n",
    "    ('tfidf', TfidfTransformer()), ('clf', BernoulliNB())]),\n",
    "    \"passive\":\n",
    "Pipeline([ ('vect', CountVectorizer(strip_accents='ascii')),\n",
    "    ('tfidf', TfidfTransformer()), ('clf', PassiveAggressiveClassifier())])\n",
    "}"
   ],
   "metadata": {
    "collapsed": false,
    "pycharm": {
     "name": "#%%\n"
    }
   }
  },
  {
   "cell_type": "markdown",
   "source": [
    "6. Testing classifiers"
   ],
   "metadata": {
    "collapsed": false,
    "pycharm": {
     "name": "#%% md\n"
    }
   }
  },
  {
   "cell_type": "code",
   "execution_count": null,
   "outputs": [],
   "source": [
    "from train import train\n",
    "\n",
    "train(x_train, x_label, y_test, y_label, classifiers)"
   ],
   "metadata": {
    "collapsed": false,
    "pycharm": {
     "name": "#%%\n"
    }
   }
  },
  {
   "cell_type": "markdown",
   "source": [
    "7. Testing ensemble classifiers"
   ],
   "metadata": {
    "collapsed": false,
    "pycharm": {
     "name": "#%% md\n"
    }
   }
  },
  {
   "cell_type": "code",
   "execution_count": null,
   "outputs": [],
   "source": [
    "from sklearn.ensemble import VotingClassifier\n",
    "from sklearn.pipeline import Pipeline\n",
    "\n",
    "\n",
    "estimators = [(k, v) for k, v in classifiers.items()]\n",
    "ensemble = {\n",
    "    \"voting\": Pipeline([('clf', VotingClassifier(estimators=estimators))]),\n",
    "   # \"adaboost\": Pipeline([('clf', AdaBoostClassifier(base_estimator=classifiers['linear_model']))])\n",
    "}\n",
    "\n",
    "train(x_train,x_label, y_test, y_label, ensemble)"
   ],
   "metadata": {
    "collapsed": false,
    "pycharm": {
     "name": "#%%\n"
    }
   }
  },
  {
   "cell_type": "markdown",
   "source": [
    "8. Testing grids (not working)"
   ],
   "metadata": {
    "collapsed": false,
    "pycharm": {
     "name": "#%% md\n"
    }
   }
  },
  {
   "cell_type": "code",
   "execution_count": null,
   "outputs": [],
   "source": [
    "# from sklearn.model_selection import GridSearchCV\n",
    "#\n",
    "# grids = {\n",
    "#      \"linear\": Pipeline([('clf',GridSearchCV(estimator=classifiers['linear_model'],\n",
    "#              param_grid={'clf__penalty': ('l1', 'l2'), 'clf__dual': (True, False), 'clf__C': [1,10],\n",
    "#                          \"clf__class_weight\": ('dict', 'balanced', None),\n",
    "#                          \"clf__multi_class\": ('ovr', 'crammer_singer'),\n",
    "#                          }))]),\n",
    "# }\n",
    "# print(classifiers['linear_model'].get_params().keys())\n",
    "#\n",
    "# for cls in grids:\n",
    "#     begin = datetime.now()\n",
    "#     print('grid search on ', cls, ' classifier')\n",
    "#     grids[cls].fit(x_train, x_label)\n",
    "#     print('time: ', datetime.now() - begin)\n",
    "#     print('params: ', grids[cls].cv_results_.keys())\n",
    "#     print('score: ', grids[cls].score(y_test, y_label))\n",
    "#     plot_confusion_matrix(grids[cls], y_test, y_label)\n",
    "#     plt.show()"
   ],
   "metadata": {
    "collapsed": false,
    "pycharm": {
     "name": "#%%\n"
    }
   }
  }
 ],
 "metadata": {
  "kernelspec": {
   "name": "pycharm-fa538f9b",
   "language": "python",
   "display_name": "PyCharm (datascience)"
  },
  "language_info": {
   "codemirror_mode": {
    "name": "ipython",
    "version": 2
   },
   "file_extension": ".py",
   "mimetype": "text/x-python",
   "name": "python",
   "nbconvert_exporter": "python",
   "pygments_lexer": "ipython2",
   "version": "2.7.6"
  }
 },
 "nbformat": 4,
 "nbformat_minor": 0
}